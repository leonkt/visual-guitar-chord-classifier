{
  "nbformat": 4,
  "nbformat_minor": 0,
  "metadata": {
    "colab": {
      "name": "Classifier.ipynb",
      "provenance": []
    },
    "kernelspec": {
      "name": "python3",
      "display_name": "Python 3"
    }
  },
  "cells": [
    {
      "cell_type": "markdown",
      "metadata": {
        "id": "LvoBOS50h_ls",
        "colab_type": "text"
      },
      "source": [
        "Here we import relevant packages. Note that we are using PyTorch for now."
      ]
    },
    {
      "cell_type": "code",
      "metadata": {
        "id": "J7TP9MRLEe-n",
        "colab_type": "code",
        "colab": {}
      },
      "source": [
        "import torch\n",
        "import torch.nn as nn\n",
        "\n",
        "import torchvision\n",
        "import torchvision.transforms as transforms\n",
        "import torchvision.datasets as datasets\n",
        "import torchvision.models as models\n",
        "\n",
        "import torch.optim as optim\n",
        "from torch.optim import lr_scheduler\n",
        "\n",
        "import matplotlib.pyplot as plt\n",
        "import numpy as np\n",
        "import time\n",
        "import os\n",
        "import copy\n",
        "import warnings\n",
        "warnings.filterwarnings(\"ignore\", category = FutureWarning)"
      ],
      "execution_count": 0,
      "outputs": []
    },
    {
      "cell_type": "markdown",
      "metadata": {
        "id": "-LAIWXkSiHCE",
        "colab_type": "text"
      },
      "source": [
        "This notebook is set up in Google Drive. As a result, we need to mount the directory path to our Google account."
      ]
    },
    {
      "cell_type": "code",
      "metadata": {
        "id": "edYN5FFmQmDQ",
        "colab_type": "code",
        "outputId": "c8d2efa0-4b18-4c19-b1d9-2344b8f24ab0",
        "colab": {
          "base_uri": "https://localhost:8080/",
          "height": 122
        }
      },
      "source": [
        "from google.colab import drive\n",
        "drive.mount('/content/drive/')\n"
      ],
      "execution_count": 2,
      "outputs": [
        {
          "output_type": "stream",
          "text": [
            "Go to this URL in a browser: https://accounts.google.com/o/oauth2/auth?client_id=947318989803-6bn6qk8qdgf4n4g3pfee6491hc0brc4i.apps.googleusercontent.com&redirect_uri=urn%3Aietf%3Awg%3Aoauth%3A2.0%3Aoob&scope=email%20https%3A%2F%2Fwww.googleapis.com%2Fauth%2Fdocs.test%20https%3A%2F%2Fwww.googleapis.com%2Fauth%2Fdrive%20https%3A%2F%2Fwww.googleapis.com%2Fauth%2Fdrive.photos.readonly%20https%3A%2F%2Fwww.googleapis.com%2Fauth%2Fpeopleapi.readonly&response_type=code\n",
            "\n",
            "Enter your authorization code:\n",
            "··········\n",
            "Mounted at /content/drive/\n"
          ],
          "name": "stdout"
        }
      ]
    },
    {
      "cell_type": "markdown",
      "metadata": {
        "id": "ukkSJFoVijYT",
        "colab_type": "text"
      },
      "source": [
        "This is where we set up our data. Note that we have split the data to 80% training and 20% validation."
      ]
    },
    {
      "cell_type": "code",
      "metadata": {
        "id": "ECHScoN_JFhy",
        "colab_type": "code",
        "outputId": "206dcda5-d278-4ea0-d6d1-ae7ace3a1bb4",
        "colab": {
          "base_uri": "https://localhost:8080/",
          "height": 34
        }
      },
      "source": [
        "# this is to preprocess our images before we run it through a neural network\n",
        "transform = transforms.Compose([\n",
        "                    transforms.Resize(224),\n",
        "                    transforms.RandomHorizontalFlip(),\n",
        "                    transforms.ToTensor(),\n",
        "                    transforms.Normalize([0.5, 0.5, 0.5], [0.5, 0.5, 0.5])  # these are subject to change\n",
        "])\n",
        "\n",
        "root = \"/content/drive/My Drive/Guitar Dataset/Workflow/Official Dataset\"\n",
        "full_set = datasets.ImageFolder(root=root, transform=transform)\n",
        "train_size = int(0.8 * len(full_set))\n",
        "test_size = len(full_set) - train_size\n",
        "train_set, test_set = torch.utils.data.random_split(full_set, [train_size, test_size])\n",
        "\n",
        "dataset_sizes = {'train': len(train_set),\n",
        "                 'test': len(test_set)\n",
        "                }\n",
        "dataloaders = {'train': torch.utils.data.DataLoader(train_set, shuffle=True, num_workers=0),\n",
        "               'test': torch.utils.data.DataLoader(test_set, shuffle=False, num_workers=0)\n",
        "              }\n",
        "\n",
        "device = torch.device(\"cuda:0\" if torch.cuda.is_available() else \"cpu\")\n",
        "\n",
        "class_names = full_set.classes\n",
        "print (class_names)\n"
      ],
      "execution_count": 9,
      "outputs": [
        {
          "output_type": "stream",
          "text": [
            "['C', 'D', 'Em', 'F', 'G']\n"
          ],
          "name": "stdout"
        }
      ]
    },
    {
      "cell_type": "markdown",
      "metadata": {
        "id": "Ks9DWciEjAUH",
        "colab_type": "text"
      },
      "source": [
        "Given the model, this function performs training "
      ]
    },
    {
      "cell_type": "code",
      "metadata": {
        "id": "X8JjEz2Xrqa0",
        "colab_type": "code",
        "colab": {}
      },
      "source": [
        "def train_model(model, criterion, optimizer, scheduler, num_epochs=25):\n",
        "    best_model_wts = copy.deepcopy(model.state_dict())  \n",
        "    best_acc = 0.0\n",
        "\n",
        "    for epoch in range(num_epochs):\n",
        "        print('Epoch {}/{}'.format(epoch, num_epochs - 1))\n",
        "        print('=' * 10)\n",
        "\n",
        "        for phase in ['train', 'test']:\n",
        "            if phase == 'train':\n",
        "                model.train()  # Set model to training mode\n",
        "            else:\n",
        "                model.eval()   # Set model to evaluate mode\n",
        "\n",
        "            running_loss = 0.0\n",
        "            running_corrects = 0\n",
        "\n",
        "            for inputs, labels in dataloaders[phase]:\n",
        "                optimizer.zero_grad()\n",
        "\n",
        "                # forward pass\n",
        "                with torch.set_grad_enabled(phase == 'train'):  # track history if only in train\n",
        "                    outputs = model(inputs)\n",
        "                    _, preds = torch.max(outputs, 1)\n",
        "                    loss = criterion(outputs, labels)\n",
        "\n",
        "                    # backward + optimize only if in training phase\n",
        "                    if phase == 'train':\n",
        "                        loss.backward()\n",
        "                        optimizer.step()\n",
        "\n",
        "                # statistics\n",
        "                running_loss += loss.item() * inputs.size(0)\n",
        "                running_corrects += torch.sum(preds == labels.data)\n",
        "            if phase == 'train':\n",
        "                scheduler.step()\n",
        "\n",
        "            epoch_loss = running_loss / dataset_sizes[phase]\n",
        "            epoch_acc = running_corrects.double() / dataset_sizes[phase]\n",
        "\n",
        "            print('{} Loss: {:.4f} Acc: {:.4f}'.format(\n",
        "                phase, epoch_loss, epoch_acc))\n",
        "\n",
        "            # deep copy the model\n",
        "            if phase == 'test' and epoch_acc > best_acc:\n",
        "                best_acc = epoch_acc\n",
        "                best_model_wts = copy.deepcopy(model.state_dict())\n",
        "        print()\n",
        "\n",
        "    print('Best val Acc: {:4f}'.format(best_acc))\n",
        "\n",
        "    # load best model weights\n",
        "    model.load_state_dict(best_model_wts)\n",
        "    return model"
      ],
      "execution_count": 0,
      "outputs": []
    },
    {
      "cell_type": "markdown",
      "metadata": {
        "id": "QwuMwgzMj83u",
        "colab_type": "text"
      },
      "source": [
        "This is where we set up our model. Note that we are performing transfer learning from ResNet18, where we freeze the last layer. \\\\\n",
        "Some additional notes:\n",
        "\n",
        "\n",
        "*   Criterion: CrossEntropyLoss\n",
        "*   Optimizer: SGD\n",
        "*   Decaying learning rate\n",
        "\n"
      ]
    },
    {
      "cell_type": "code",
      "metadata": {
        "id": "oe95egSEp9MS",
        "colab_type": "code",
        "colab": {
          "base_uri": "https://localhost:8080/",
          "height": 51
        },
        "outputId": "ee20bf90-0be1-4130-9bcb-393cf8b7aafa"
      },
      "source": [
        "model_conv = torchvision.models.resnet18(pretrained=True)\n",
        "for param in model_conv.parameters():\n",
        "    param.requires_grad = False\n",
        "\n",
        "num_ftrs = model_conv.fc.in_features\n",
        "model_conv.fc = nn.Linear(num_ftrs, 5) \n",
        "\n",
        "model_conv = model_conv.to(device)\n",
        "\n",
        "criterion = nn.CrossEntropyLoss()\n",
        "\n",
        "# Observe that only parameters of final layer are being optimized as\n",
        "# opposed to before.\n",
        "optimizer_conv = optim.SGD(model_conv.fc.parameters(), lr=0.001, momentum=0.9)\n",
        "\n",
        "# Decay LR by a factor of 0.1 every 7 epochs\n",
        "exp_lr_scheduler = lr_scheduler.StepLR(optimizer_conv, step_size=7, gamma=0.1)"
      ],
      "execution_count": 5,
      "outputs": [
        {
          "output_type": "stream",
          "text": [
            "Downloading: \"https://download.pytorch.org/models/resnet18-5c106cde.pth\" to /root/.cache/torch/checkpoints/resnet18-5c106cde.pth\n",
            "100%|██████████| 44.7M/44.7M [00:00<00:00, 68.3MB/s]\n"
          ],
          "name": "stderr"
        }
      ]
    },
    {
      "cell_type": "markdown",
      "metadata": {
        "id": "U-S59QEFknxc",
        "colab_type": "text"
      },
      "source": [
        "Here is where we actually do the training."
      ]
    },
    {
      "cell_type": "code",
      "metadata": {
        "id": "vjv4OrXEtAmF",
        "colab_type": "code",
        "outputId": "49dd90a4-a2dc-4a68-af03-2159ca05b496",
        "colab": {
          "base_uri": "https://localhost:8080/",
          "height": 1000
        }
      },
      "source": [
        "model_conv = train_model(model_conv, criterion, optimizer_conv,\n",
        "                         exp_lr_scheduler, num_epochs=25)"
      ],
      "execution_count": 6,
      "outputs": [
        {
          "output_type": "stream",
          "text": [
            "Epoch 0/24\n",
            "==========\n",
            "train Loss: 2.4856 Acc: 0.2534\n",
            "test Loss: 3.0344 Acc: 0.2838\n",
            "\n",
            "Epoch 1/24\n",
            "==========\n",
            "train Loss: 2.9106 Acc: 0.2466\n",
            "test Loss: 1.9370 Acc: 0.2027\n",
            "\n",
            "Epoch 2/24\n",
            "==========\n",
            "train Loss: 2.5324 Acc: 0.2466\n",
            "test Loss: 3.6794 Acc: 0.2703\n",
            "\n",
            "Epoch 3/24\n",
            "==========\n",
            "train Loss: 2.6589 Acc: 0.2365\n",
            "test Loss: 1.9388 Acc: 0.2703\n",
            "\n",
            "Epoch 4/24\n",
            "==========\n",
            "train Loss: 2.4460 Acc: 0.2196\n",
            "test Loss: 2.9966 Acc: 0.2432\n",
            "\n",
            "Epoch 5/24\n",
            "==========\n",
            "train Loss: 2.6691 Acc: 0.2736\n",
            "test Loss: 2.1760 Acc: 0.2162\n",
            "\n",
            "Epoch 6/24\n",
            "==========\n",
            "train Loss: 2.3945 Acc: 0.2601\n",
            "test Loss: 2.8463 Acc: 0.4054\n",
            "\n",
            "Epoch 7/24\n",
            "==========\n",
            "train Loss: 1.7211 Acc: 0.3277\n",
            "test Loss: 1.5290 Acc: 0.2838\n",
            "\n",
            "Epoch 8/24\n",
            "==========\n",
            "train Loss: 1.5939 Acc: 0.2939\n",
            "test Loss: 1.4470 Acc: 0.4595\n",
            "\n",
            "Epoch 9/24\n",
            "==========\n",
            "train Loss: 1.5530 Acc: 0.3142\n",
            "test Loss: 1.8718 Acc: 0.2027\n",
            "\n",
            "Epoch 10/24\n",
            "==========\n",
            "train Loss: 1.6240 Acc: 0.2736\n",
            "test Loss: 1.5099 Acc: 0.3378\n",
            "\n",
            "Epoch 11/24\n",
            "==========\n",
            "train Loss: 1.5830 Acc: 0.2973\n",
            "test Loss: 1.6384 Acc: 0.2838\n",
            "\n",
            "Epoch 12/24\n",
            "==========\n",
            "train Loss: 1.5738 Acc: 0.3041\n",
            "test Loss: 1.7024 Acc: 0.3108\n",
            "\n",
            "Epoch 13/24\n",
            "==========\n",
            "train Loss: 1.6124 Acc: 0.2736\n",
            "test Loss: 1.6094 Acc: 0.2838\n",
            "\n",
            "Epoch 14/24\n",
            "==========\n",
            "train Loss: 1.5314 Acc: 0.3209\n",
            "test Loss: 1.4230 Acc: 0.4054\n",
            "\n",
            "Epoch 15/24\n",
            "==========\n",
            "train Loss: 1.5095 Acc: 0.3209\n",
            "test Loss: 1.4598 Acc: 0.4324\n",
            "\n",
            "Epoch 16/24\n",
            "==========\n",
            "train Loss: 1.5085 Acc: 0.3243\n",
            "test Loss: 1.5124 Acc: 0.3649\n",
            "\n",
            "Epoch 17/24\n",
            "==========\n",
            "train Loss: 1.5090 Acc: 0.3277\n",
            "test Loss: 1.4934 Acc: 0.3784\n",
            "\n",
            "Epoch 18/24\n",
            "==========\n",
            "train Loss: 1.5066 Acc: 0.3345\n",
            "test Loss: 1.5220 Acc: 0.3649\n",
            "\n",
            "Epoch 19/24\n",
            "==========\n",
            "train Loss: 1.5098 Acc: 0.3209\n",
            "test Loss: 1.5023 Acc: 0.3784\n",
            "\n",
            "Epoch 20/24\n",
            "==========\n",
            "train Loss: 1.5120 Acc: 0.3311\n",
            "test Loss: 1.4941 Acc: 0.3919\n",
            "\n",
            "Epoch 21/24\n",
            "==========\n",
            "train Loss: 1.4987 Acc: 0.3176\n",
            "test Loss: 1.5034 Acc: 0.3919\n",
            "\n",
            "Epoch 22/24\n",
            "==========\n",
            "train Loss: 1.4972 Acc: 0.3176\n",
            "test Loss: 1.4235 Acc: 0.4054\n",
            "\n",
            "Epoch 23/24\n",
            "==========\n",
            "train Loss: 1.4992 Acc: 0.3176\n",
            "test Loss: 1.4819 Acc: 0.3784\n",
            "\n",
            "Epoch 24/24\n",
            "==========\n",
            "train Loss: 1.4970 Acc: 0.3176\n",
            "test Loss: 1.4730 Acc: 0.3649\n",
            "\n",
            "Best val Acc: 0.459459\n"
          ],
          "name": "stdout"
        }
      ]
    },
    {
      "cell_type": "code",
      "metadata": {
        "id": "zr3S6TBHuJS0",
        "colab_type": "code",
        "colab": {}
      },
      "source": [
        "def imshow(inp, title=None):\n",
        "    \"\"\"Imshow for Tensor.\"\"\"\n",
        "    inp = inp.numpy().transpose((1, 2, 0))\n",
        "    mean = np.array([0.485, 0.456, 0.406])\n",
        "    std = np.array([0.229, 0.224, 0.225])\n",
        "    inp = std * inp + mean\n",
        "    inp = np.clip(inp, 0, 1)\n",
        "    plt.imshow(inp)\n",
        "    if title is not None:\n",
        "        plt.title(title)\n",
        "    plt.pause(0.001)  # pause a bit so that plots are updated\n",
        "\n",
        "def visualize_model(model, num_images=6):\n",
        "    was_training = model.training\n",
        "    model.eval()\n",
        "    images_so_far = 0\n",
        "    fig = plt.figure()\n",
        "\n",
        "    with torch.no_grad():\n",
        "        for i, (inputs, labels) in enumerate(dataloaders['test']):\n",
        "            inputs = inputs.to(device)\n",
        "            labels = labels.to(device)\n",
        "\n",
        "            outputs = model(inputs)\n",
        "            _, preds = torch.max(outputs, 1)\n",
        "\n",
        "            for j in range(inputs.size()[0]):\n",
        "                images_so_far += 1\n",
        "                ax = plt.subplot(num_images//2, 2, images_so_far)\n",
        "                ax.axis('off')\n",
        "                ax.set_title('predicted: {}'.format(class_names[preds[j]]))\n",
        "                imshow(inputs.cpu().data[j])\n",
        "\n",
        "                if images_so_far == num_images:\n",
        "                    model.train(mode=was_training)\n",
        "                    return\n",
        "        model.train(mode=was_training)"
      ],
      "execution_count": 0,
      "outputs": []
    },
    {
      "cell_type": "code",
      "metadata": {
        "id": "pCXDrzxP0BBf",
        "colab_type": "code",
        "outputId": "44b62441-a1bc-4329-b914-58600b4fe9b8",
        "colab": {
          "base_uri": "https://localhost:8080/",
          "height": 581
        }
      },
      "source": [
        "visualize_model(model_conv)\n",
        "\n",
        "plt.ioff()\n",
        "plt.show()"
      ],
      "execution_count": 11,
      "outputs": [
        {
          "output_type": "display_data",
          "data": {
            "image/png": "[encoded data removed]",
            "text/plain": [
              "<Figure size 432x288 with 1 Axes>"
            ]
          },
          "metadata": {
            "tags": []
          }
        },
        {
          "output_type": "display_data",
          "data": {
            "image/png": "[encoded data removed]",
            "text/plain": [
              "<Figure size 432x288 with 1 Axes>"
            ]
          },
          "metadata": {
            "tags": []
          }
        },
        {
          "output_type": "display_data",
          "data": {
            "image/png": "[encoded data removed]",
            "text/plain": [
              "<Figure size 432x288 with 1 Axes>"
            ]
          },
          "metadata": {
            "tags": []
          }
        },
        {
          "output_type": "display_data",
          "data": {
            "image/png": "[encoded data removed]",
            "text/plain": [
              "<Figure size 432x288 with 1 Axes>"
            ]
          },
          "metadata": {
            "tags": []
          }
        },
        {
          "output_type": "display_data",
          "data": {
            "image/png": "[encoded data removed]",
            "text/plain": [
              "<Figure size 432x288 with 1 Axes>"
            ]
          },
          "metadata": {
            "tags": []
          }
        },
        {
          "output_type": "display_data",
          "data": {
            "image/png": "[encoded data removed]",
            "text/plain": [
              "<Figure size 432x288 with 1 Axes>"
            ]
          },
          "metadata": {
            "tags": []
          }
        }
      ]
    },
    {
      "cell_type": "code",
      "metadata": {
        "id": "q_8FrNmz0DlI",
        "colab_type": "code",
        "colab": {}
      },
      "source": [
        ""
      ],
      "execution_count": 0,
      "outputs": []
    }
  ]
}